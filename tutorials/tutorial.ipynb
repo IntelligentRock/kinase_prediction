{
 "cells": [
  {
   "cell_type": "markdown",
   "metadata": {},
   "source": [
    "tutorial\n",
    "the basic step of KBPRNA are shown below:\n",
    "1. load datasets\n",
    "2. init model\n",
    "3. fit model\n",
    "4. predict\n",
    "Further dependencies: This tutorial uses the python packages xgboost and sklearn . These are not required by KBPRNA and will need to be installed separately."
   ]
  },
  {
   "cell_type": "code",
   "execution_count": 1,
   "metadata": {},
   "outputs": [],
   "source": [
    "from operator import index\n",
    "import os\n",
    "from xml.dom import INVALID_STATE_ERR\n",
    "import pandas as pd\n",
    "import pickle\n",
    "import numpy as np\n",
    "from sklearn.linear_model import LinearRegression\n",
    "from sklearn.decomposition import PCA \n",
    "from sklearn.preprocessing import StandardScaler\n",
    "import openpyxl\n",
    "from sklearn.model_selection import KFold\n",
    "from sklearn.model_selection import cross_val_score\n",
    "from sklearn.model_selection import GridSearchCV\n",
    "from sklearn import preprocessing\n",
    "from sklearn.model_selection  import train_test_split\n",
    "from sklearn.metrics import r2_score\n",
    "from sklearn import metrics\n",
    "import xgboost as xgb\n",
    "from scipy.stats import pearsonr\n"
   ]
  },
  {
   "cell_type": "markdown",
   "metadata": {},
   "source": [
    "After loading required packages, we need to import our KBPRNA. Then we built a xgboost model with L1000-genes' signatures."
   ]
  },
  {
   "cell_type": "code",
   "execution_count": 2,
   "metadata": {},
   "outputs": [
    {
     "name": "stdout",
     "output_type": "stream",
     "text": [
      "preprocessed bulk RNA-seq data\n",
      "\n",
      "[[ 25.57717253 -11.12746806   4.09906521 ...   2.91953679  -2.97371516\n",
      "   -3.49583116]\n",
      " [ 14.32323194   0.81497373  -6.53303424 ...  -3.66686756  -5.1735288\n",
      "   -1.74748228]\n",
      " [ 15.32543146   6.11851348   4.62965824 ...   1.58439737  -6.03031596\n",
      "   -3.95128555]\n",
      " ...\n",
      " [-19.23140281  27.16604379  13.2782209  ...  -1.62225783  -1.27341133\n",
      "   -3.26565144]\n",
      " [ -1.10929585   6.00426881   2.68206894 ...  -3.91912426  -1.42830979\n",
      "    0.3221792 ]\n",
      " [ -8.34579031   3.11772145  -3.1144059  ...  -2.29369331  -1.40122272\n",
      "   -2.11069636]]\n",
      "preprocessed kinase data\n",
      "\n",
      "      CPT000814  CPT001846  X01BR001  X01BR008  X01BR009  X01BR010  X01BR015  \\\n",
      "CDK2  -0.686726   0.046187 -0.085187 -1.505587 -0.746879  0.497259 -0.177344   \n",
      "ERN1  -0.966509   0.258493 -0.397378 -1.836461 -1.171083  0.209605 -0.103298   \n",
      "\n",
      "      X01BR017  X01BR018  X01BR020  ...  X20BR002  X20BR005  X20BR006  \\\n",
      "CDK2 -1.077275 -1.366773 -1.849659  ... -0.508023 -0.955608 -1.166649   \n",
      "ERN1 -0.735781 -1.130761 -2.075309  ... -0.415239 -0.930894 -1.480100   \n",
      "\n",
      "      X20BR007  X20BR008  X21BR001  X21BR002  X21BR010  X22BR005  X22BR006  \n",
      "CDK2 -1.406989  0.387007  0.069658  1.135634  1.791695 -0.124768  1.435097  \n",
      "ERN1 -1.101151  0.606197 -0.500490  0.978577  1.361396 -0.177501  1.352527  \n",
      "\n",
      "[2 rows x 122 columns]\n",
      "['CDK2' 'ERN1']\n",
      "{'learning_rate': 0.27, 'max_depth': 4, 'n_estimators': 200}\n",
      "{'learning_rate': 0.15000000000000002, 'max_depth': 4, 'n_estimators': 100}\n",
      "             0  learning_rate  max_depth  n_estimators\n",
      "CDK2  0.750302           0.27          4           200\n",
      "ERN1  0.712861           0.15          4           100\n"
     ]
    }
   ],
   "source": [
    "import prediction\n",
    "\n",
    "mymodel = prediction.KBPRNA(\"XGboost\")\n",
    "\n",
    "mymodel.prepare([\"CDK2\", \"ERN1\"], \"BC\", False, \"XGboost\")\n",
    "\n",
    "##Here, we used parameter = False to denote we will choose L1000-genes' signatures instead of total genes as input data to predict \n",
    "# CDK2 and ERN1 activity in breast cancer samples "
   ]
  },
  {
   "cell_type": "markdown",
   "metadata": {},
   "source": [
    "Above process show the preprocessed bulk RNA-seq data and kinase data.\n",
    "\n",
    "Above results  also show the prediction R square of CDK2 and ERN1 is 0.750302 and 0.712861 after parameters adjusting which performs relatively well in demonstrating complex kinase activity.\n",
    "\n",
    "Then we used the created model to test out model's usability in test file."
   ]
  },
  {
   "cell_type": "code",
   "execution_count": 4,
   "metadata": {},
   "outputs": [
    {
     "name": "stdout",
     "output_type": "stream",
     "text": [
      "[[ 2.55771784e+01 -1.11274946e+01  4.09908698e+00 ...  1.83899835e+00\n",
      "  -3.01418655e+00 -4.26529860e+00]\n",
      " [ 1.43232322e+01  8.14928615e-01 -6.53325224e+00 ... -4.07492210e+00\n",
      "  -4.85843716e+00 -2.38981756e+00]\n",
      " [ 1.53254303e+01  6.11851714e+00  4.62969662e+00 ...  1.07213953e+00\n",
      "  -6.10472588e+00 -3.47702941e+00]\n",
      " ...\n",
      " [-1.92314012e+01  2.71660462e+01  1.32781458e+01 ... -1.13146949e+00\n",
      "  -3.72614556e-01 -3.65209054e+00]\n",
      " [-1.10929389e+00  6.00426791e+00  2.68195897e+00 ... -4.52588035e+00\n",
      "  -1.37406047e+00  1.66807885e-02]\n",
      " [-8.34579427e+00  3.11773495e+00 -3.11444205e+00 ... -2.16512307e+00\n",
      "  -7.56739233e-01 -2.60890830e+00]]\n",
      "   CPT000814  CPT001846  X01BR001  X01BR008  X01BR009  X01BR010  X01BR015  \\\n",
      "0  -0.736743  -0.381812 -0.078627 -1.489645 -0.741120  0.326509  0.013843   \n",
      "1  -0.956286  -0.039558 -0.406372 -1.791577 -1.085326  0.218356  0.178661   \n",
      "\n",
      "   X01BR017  X01BR018  X01BR020  ...  X20BR002  X20BR005  X20BR006  X20BR007  \\\n",
      "0 -0.889202 -1.254385 -1.687559  ... -0.575156 -0.945091 -1.270496 -1.410987   \n",
      "1 -0.699117 -1.023752 -1.860498  ... -0.497204 -0.925147 -1.481640 -1.136011   \n",
      "\n",
      "   X20BR008  X21BR001  X21BR002  X21BR010  X22BR005  X22BR006  \n",
      "0  0.542047  0.053538  1.131495  1.751699 -0.083102  1.447847  \n",
      "1  0.607987 -0.536488  1.023219  1.233371 -0.159765  1.277803  \n",
      "\n",
      "[2 rows x 122 columns]\n"
     ]
    }
   ],
   "source": [
    "mymodel.predict(\"test.csv\", [\"CDK2\", \"ERN1\"], False)"
   ]
  },
  {
   "cell_type": "markdown",
   "metadata": {},
   "source": [
    "Above results show all the predicted kinase actvities predicted with our robust model.\n",
    "\n",
    "Then we could use our trained model( xgboost + L1000 genes' selection) to do some downstream analysis such as identifying novel kinases as markers to distinguish different cell groups in scRNA-seq dataset when applying our model to each cell's RNA-seq expression level. We could also use the model to identify kinases with largest predicted ability under different cancer conditions. Then we could use these kinases to distinguish different cancer samples. "
   ]
  }
 ],
 "metadata": {
  "kernelspec": {
   "display_name": "Python 3.9.12 ('pytorch')",
   "language": "python",
   "name": "python3"
  },
  "language_info": {
   "codemirror_mode": {
    "name": "ipython",
    "version": 3
   },
   "file_extension": ".py",
   "mimetype": "text/x-python",
   "name": "python",
   "nbconvert_exporter": "python",
   "pygments_lexer": "ipython3",
   "version": "3.9.12"
  },
  "orig_nbformat": 4,
  "vscode": {
   "interpreter": {
    "hash": "15f688520ac78e58bf12aa87d38c886161a1404571d760e9e64f37484b3e2b87"
   }
  }
 },
 "nbformat": 4,
 "nbformat_minor": 2
}
